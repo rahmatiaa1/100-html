{
  "nbformat": 4,
  "nbformat_minor": 0,
  "metadata": {
    "colab": {
      "provenance": [],
      "authorship_tag": "ABX9TyM64/Khnr9kC4vKOXRlemN/",
      "include_colab_link": true
    },
    "kernelspec": {
      "name": "python3",
      "display_name": "Python 3"
    },
    "language_info": {
      "name": "python"
    }
  },
  "cells": [
    {
      "cell_type": "markdown",
      "metadata": {
        "id": "view-in-github",
        "colab_type": "text"
      },
      "source": [
        "<a href=\"https://colab.research.google.com/github/rahmatiaa1/100-html/blob/main/T1_CRAWL_DATA_Siti_Rahmatia_W_Ischak.ipynb\" target=\"_parent\"><img src=\"https://colab.research.google.com/assets/colab-badge.svg\" alt=\"Open In Colab\"/></a>"
      ]
    },
    {
      "cell_type": "code",
      "execution_count": 5,
      "metadata": {
        "colab": {
          "base_uri": "https://localhost:8080/"
        },
        "id": "-eqMQf98bSw1",
        "outputId": "68724d4e-377b-4010-8a21-4562f4fd66fb"
      },
      "outputs": [
        {
          "output_type": "stream",
          "name": "stdout",
          "text": [
            "Scraping selesai. Data berhasil diexport ke JSON, CSV, dan Excel.\n"
          ]
        }
      ],
      "source": [
        "import requests\n",
        "from bs4 import BeautifulSoup\n",
        "import pandas as pd\n",
        "import json\n",
        "\n",
        "# URL contoh (ganti sesuai target, misalnya portal berita/e-commerce)\n",
        "url = \"https://www.tvonenews.com/berita\"\n",
        "\n",
        "# Request halaman\n",
        "response = requests.get(url)\n",
        "soup = BeautifulSoup(response.text, \"html.parser\")\n",
        "\n",
        "# Kumpulan data\n",
        "data = []\n",
        "\n",
        "# Cari semua artikel (selector bisa berubah tergantung struktur web)\n",
        "articles = soup.find_all(\"article\")\n",
        "\n",
        "for art in articles:\n",
        "    title = art.find(\"h2\").get_text(strip=True) if art.find(\"h2\") else None\n",
        "    link = art.find(\"a\")[\"href\"] if art.find(\"a\") else None\n",
        "    summary = art.find(\"p\").get_text(strip=True) if art.find(\"p\") else None\n",
        "\n",
        "    # Meta tambahan\n",
        "    img = art.find(\"img\")[\"src\"] if art.find(\"img\") else None\n",
        "\n",
        "    data.append({\n",
        "        \"title\": title,\n",
        "        \"link\": link,\n",
        "        \"summary\": summary,\n",
        "        \"image\": img\n",
        "    })\n",
        "\n",
        "# Convert ke DataFrame\n",
        "df = pd.DataFrame(data)\n",
        "\n",
        "# Export JSON\n",
        "with open(\"scraping_output.json\", \"w\", encoding=\"utf-8\") as f:\n",
        "    json.dump(data, f, ensure_ascii=False, indent=4)\n",
        "\n",
        "# Export CSV\n",
        "df.to_csv(\"scraping_output.csv\", index=False, encoding=\"utf-8\")\n",
        "\n",
        "# Export Excel\n",
        "df.to_excel(\"scraping_output.xlsx\", index=False)\n",
        "\n",
        "print(\"Scraping selesai. Data berhasil diexport ke JSON, CSV, dan Excel.\")\n"
      ]
    }
  ]
}